{
  "nbformat": 4,
  "nbformat_minor": 0,
  "metadata": {
    "colab": {
      "provenance": [],
      "authorship_tag": "ABX9TyMndQ/gZqLkasJPFnzbTgQn",
      "include_colab_link": true
    },
    "kernelspec": {
      "name": "python3",
      "display_name": "Python 3"
    },
    "language_info": {
      "name": "python"
    }
  },
  "cells": [
    {
      "cell_type": "markdown",
      "metadata": {
        "id": "view-in-github",
        "colab_type": "text"
      },
      "source": [
        "<a href=\"https://colab.research.google.com/github/rmurudkar/pytorch_tutorial/blob/main/pytorch_tutorial_cnn.ipynb\" target=\"_parent\"><img src=\"https://colab.research.google.com/assets/colab-badge.svg\" alt=\"Open In Colab\"/></a>"
      ]
    },
    {
      "cell_type": "code",
      "execution_count": null,
      "metadata": {
        "id": "gQSxjnPGr1zz"
      },
      "outputs": [],
      "source": [
        "import torch\n",
        "import torch.nn as nn\n",
        "import torch.nn.functional as F\n",
        "from torch.utils.data import DataLoader\n",
        "from torchvision import datasets, transforms\n",
        "from torchvision.utils import make_grid\n",
        "\n",
        "import numpy as np\n",
        "import pandas as pd\n",
        "from sklearn.metrics import confusion_matrix\n",
        "import itertools\n",
        "import matplotlib.pyplot as plt\n",
        "%matplotlib inline"
      ]
    },
    {
      "cell_type": "code",
      "source": [
        "# convert mnist image files into tensor of 4 dimensions (num images, height, width, color channel)\n",
        "transform = transforms.ToTensor()"
      ],
      "metadata": {
        "id": "IrxQXouWwH6i"
      },
      "execution_count": null,
      "outputs": []
    },
    {
      "cell_type": "code",
      "source": [
        "# train data\n",
        "train_data = datasets.MNIST(root='/data', train=True, download=True, transform=transform)"
      ],
      "metadata": {
        "colab": {
          "base_uri": "https://localhost:8080/"
        },
        "id": "alU66MxwwuLl",
        "outputId": "8025a665-8073-469a-91dd-08a55d501973"
      },
      "execution_count": null,
      "outputs": [
        {
          "output_type": "stream",
          "name": "stderr",
          "text": [
            "100%|██████████| 9.91M/9.91M [00:00<00:00, 16.0MB/s]\n",
            "100%|██████████| 28.9k/28.9k [00:00<00:00, 482kB/s]\n",
            "100%|██████████| 1.65M/1.65M [00:00<00:00, 4.45MB/s]\n",
            "100%|██████████| 4.54k/4.54k [00:00<00:00, 6.02MB/s]\n"
          ]
        }
      ]
    },
    {
      "cell_type": "code",
      "source": [
        "# test data\n",
        "test_data = datasets.MNIST(root='/data', train=False, download=True, transform=transform)"
      ],
      "metadata": {
        "id": "SDRUb-zGxFFd"
      },
      "execution_count": null,
      "outputs": []
    },
    {
      "cell_type": "code",
      "source": [
        "train_data"
      ],
      "metadata": {
        "colab": {
          "base_uri": "https://localhost:8080/"
        },
        "id": "9qe-7122xPEY",
        "outputId": "e85f9fec-020b-41db-c278-4e8e17d8c0d1"
      },
      "execution_count": null,
      "outputs": [
        {
          "output_type": "execute_result",
          "data": {
            "text/plain": [
              "Dataset MNIST\n",
              "    Number of datapoints: 60000\n",
              "    Root location: /data\n",
              "    Split: Train\n",
              "    StandardTransform\n",
              "Transform: ToTensor()"
            ]
          },
          "metadata": {},
          "execution_count": 6
        }
      ]
    },
    {
      "cell_type": "code",
      "source": [
        "test_data"
      ],
      "metadata": {
        "colab": {
          "base_uri": "https://localhost:8080/"
        },
        "id": "Efg8T7JJxQKg",
        "outputId": "047a1f71-ed95-43bc-9173-4113ee6d98b8"
      },
      "execution_count": null,
      "outputs": [
        {
          "output_type": "execute_result",
          "data": {
            "text/plain": [
              "Dataset MNIST\n",
              "    Number of datapoints: 10000\n",
              "    Root location: /data\n",
              "    Split: Test\n",
              "    StandardTransform\n",
              "Transform: ToTensor()"
            ]
          },
          "metadata": {},
          "execution_count": 7
        }
      ]
    },
    {
      "cell_type": "code",
      "source": [
        "# create a small batch size for images...10\n",
        "train_loader = DataLoader(train_data, batch_size=10, shuffle=True)\n",
        "test_loader = DataLoader(test_data, batch_size=10, shuffle=False)"
      ],
      "metadata": {
        "id": "-mCpop_Pxgf1"
      },
      "execution_count": null,
      "outputs": []
    },
    {
      "cell_type": "code",
      "source": [
        "# define cnn\n",
        "# describe convolutional layer and what it is doing (2 convoluitonal layers)\n",
        "conv1 = nn.Conv2d(in_channels=1, out_channels=6, kernel_size=3, stride=1)\n",
        "conv2 = nn.Conv2d(in_channels=6, out_channels=16, kernel_size=3, stride=1)"
      ],
      "metadata": {
        "id": "jUOkqnc6yMzC"
      },
      "execution_count": null,
      "outputs": []
    },
    {
      "cell_type": "code",
      "source": [
        "for i, (X_train, y_train) in enumerate(train_loader):\n",
        "    break"
      ],
      "metadata": {
        "id": "1X-DT9ZRyzuB"
      },
      "execution_count": null,
      "outputs": []
    },
    {
      "cell_type": "code",
      "source": [
        "X_train.shape"
      ],
      "metadata": {
        "colab": {
          "base_uri": "https://localhost:8080/"
        },
        "id": "yPzE9sA7za1t",
        "outputId": "1f172841-3d3d-4925-baca-af8957ac4f28"
      },
      "execution_count": null,
      "outputs": [
        {
          "output_type": "execute_result",
          "data": {
            "text/plain": [
              "torch.Size([10, 1, 28, 28])"
            ]
          },
          "metadata": {},
          "execution_count": 15
        }
      ]
    },
    {
      "cell_type": "code",
      "source": [
        "x = X_train.view(10, 1, 28, 28)\n",
        "\n"
      ],
      "metadata": {
        "id": "IiJD88hNzBsO"
      },
      "execution_count": null,
      "outputs": []
    },
    {
      "cell_type": "code",
      "source": [
        "# perform first convolution\n",
        "x = F.relu(conv1(x)) # rectified linear unit"
      ],
      "metadata": {
        "id": "2JO6Z2XnzrkU"
      },
      "execution_count": null,
      "outputs": []
    },
    {
      "cell_type": "code",
      "source": [
        "x.shape\n",
        "# 10 - 10 images\n",
        "# 6 - filters we asked for\n",
        "# 26x26 - no padding so it dropped outer pixels"
      ],
      "metadata": {
        "colab": {
          "base_uri": "https://localhost:8080/"
        },
        "id": "dqIoq1i-z4F5",
        "outputId": "2374455f-db32-4e02-801a-68de1e3c30a6"
      },
      "execution_count": null,
      "outputs": [
        {
          "output_type": "execute_result",
          "data": {
            "text/plain": [
              "torch.Size([10, 6, 26, 26])"
            ]
          },
          "metadata": {},
          "execution_count": 22
        }
      ]
    },
    {
      "cell_type": "code",
      "source": [
        "# pass through pooling layer\n",
        "x = F.max_pool2d(x, 2,2) # kernel of 2 and stride of 2"
      ],
      "metadata": {
        "id": "-gFEMv4wz5Z-"
      },
      "execution_count": null,
      "outputs": []
    },
    {
      "cell_type": "code",
      "source": [
        "x.shape # 26/2=13"
      ],
      "metadata": {
        "colab": {
          "base_uri": "https://localhost:8080/"
        },
        "id": "FrW_PXL10iXy",
        "outputId": "943925c7-70d2-42ce-cd7d-fb975eb50f57"
      },
      "execution_count": null,
      "outputs": [
        {
          "output_type": "execute_result",
          "data": {
            "text/plain": [
              "torch.Size([10, 6, 13, 13])"
            ]
          },
          "metadata": {},
          "execution_count": 26
        }
      ]
    },
    {
      "cell_type": "code",
      "source": [
        "# do second convolution layer\n",
        "x = F.relu(conv2(x))"
      ],
      "metadata": {
        "id": "yO9O6-c50nZv"
      },
      "execution_count": null,
      "outputs": []
    },
    {
      "cell_type": "code",
      "source": [
        "x.shape # lose 2 pixels outside image because we didnt set padding"
      ],
      "metadata": {
        "colab": {
          "base_uri": "https://localhost:8080/"
        },
        "id": "-A50hvDb0-2e",
        "outputId": "2f329719-04ef-4e80-d6fa-59a6a36c8196"
      },
      "execution_count": null,
      "outputs": [
        {
          "output_type": "execute_result",
          "data": {
            "text/plain": [
              "torch.Size([10, 16, 11, 11])"
            ]
          },
          "metadata": {},
          "execution_count": 30
        }
      ]
    },
    {
      "cell_type": "code",
      "source": [
        "# pooling layer\n",
        "x = F.max_pool2d(x, 2,2)\n"
      ],
      "metadata": {
        "id": "Pvya4dfj1B7C"
      },
      "execution_count": null,
      "outputs": []
    },
    {
      "cell_type": "code",
      "source": [
        "x.shape"
      ],
      "metadata": {
        "colab": {
          "base_uri": "https://localhost:8080/"
        },
        "id": "2kmr4yvp1Q5K",
        "outputId": "9559b0b1-0904-4b31-c4c3-fd60a744a29e"
      },
      "execution_count": null,
      "outputs": [
        {
          "output_type": "execute_result",
          "data": {
            "text/plain": [
              "torch.Size([10, 16, 5, 5])"
            ]
          },
          "metadata": {},
          "execution_count": 32
        }
      ]
    },
    {
      "cell_type": "code",
      "source": [
        "# model class\n",
        "class ConvolutionalNetwork(nn.Module):\n",
        "    def __init__(self):\n",
        "        super().__init__()\n",
        "        self.conv1 = nn.Conv2d(1,6,3,1)\n",
        "        self.conv2 = nn.Conv2d(6,16,3,1)\n",
        "\n",
        "        self.fc1 = nn.Linear(5*5*16, 120)\n",
        "        self.fc2 = nn.Linear(120, 84)\n",
        "        self.fc3 = nn.Linear(84, 10)\n",
        "\n",
        "    def forward(self, X):\n",
        "\n",
        "        # convolution and max pooling\n",
        "        X = F.relu(self.conv1(X))\n",
        "        X = F.max_pool2d(X, 2,2)\n",
        "        X = F.relu(self.conv2(X))\n",
        "        X = F.max_pool2d(X, 2,2)\n",
        "\n",
        "        # flatten\n",
        "        X = X.view(-1, 16*5*5) # -1 so we can vary the batch size\n",
        "\n",
        "        # fully connexted layers\n",
        "        X = F.relu(self.fc1(X))\n",
        "        X = F.relu(self.fc2(X))\n",
        "        X = self.fc3(X)\n",
        "\n",
        "        return F.log_softmax(X, dim=1)\n",
        "\n"
      ],
      "metadata": {
        "id": "EKxs1vsA1TM4"
      },
      "execution_count": null,
      "outputs": []
    },
    {
      "cell_type": "code",
      "source": [
        "# create instance of model\n",
        "torch.manual_seed(41)\n",
        "model = ConvolutionalNetwork()\n",
        "\n",
        "model"
      ],
      "metadata": {
        "colab": {
          "base_uri": "https://localhost:8080/"
        },
        "id": "rVCrZUeY4oCm",
        "outputId": "c01bf5ce-efd7-4c2a-baf1-c22dc8ea3c85"
      },
      "execution_count": null,
      "outputs": [
        {
          "output_type": "execute_result",
          "data": {
            "text/plain": [
              "ConvolutionalNetwork(\n",
              "  (conv1): Conv2d(1, 6, kernel_size=(3, 3), stride=(1, 1))\n",
              "  (conv2): Conv2d(6, 16, kernel_size=(3, 3), stride=(1, 1))\n",
              "  (fc1): Linear(in_features=400, out_features=120, bias=True)\n",
              "  (fc2): Linear(in_features=120, out_features=84, bias=True)\n",
              "  (fc3): Linear(in_features=84, out_features=10, bias=True)\n",
              ")"
            ]
          },
          "metadata": {},
          "execution_count": 34
        }
      ]
    },
    {
      "cell_type": "code",
      "source": [
        "# Loss function optimizer\n",
        "criterion = nn.CrossEntropyLoss()\n",
        "optimizer = torch.optim.Adam(model.parameters(), lr=0.001) # SMALLER the learning rate longer it takes to train"
      ],
      "metadata": {
        "id": "AEk_w4cN4xk6"
      },
      "execution_count": null,
      "outputs": []
    },
    {
      "cell_type": "code",
      "source": [
        "import time\n",
        "start_time = time.time()\n",
        "\n",
        "# Train\n",
        "epochs = 5\n",
        "train_losses = []\n",
        "test_losses = []\n",
        "train_correct = []\n",
        "test_correct = []\n",
        "\n",
        "for epoch in range(epochs):\n",
        "    trn_corr = 0\n",
        "    tst_corr = 0\n",
        "    for batch, (X_train, y_train) in enumerate(train_loader):\n",
        "\n",
        "        batch += 1\n",
        "        y_pred = model(X_train) # get predicted values from training set. not flattened\n",
        "        loss = criterion(y_pred, y_train) # how off are we? compare preds to actual in y_train\n",
        "\n",
        "        predicted = torch.max(y_pred.data, 1)[1] # add up number of correct predictions, indexed off the first point\n",
        "\n",
        "        batch_correct = (predicted == y_train).sum() # how many we got correct from this batch. True = 1, False = 0, sum those up\n",
        "\n",
        "\n",
        "        trn_corr += batch_correct\n",
        "\n",
        "        optimizer.zero_grad()\n",
        "        loss.backward()\n",
        "        optimizer.step()\n",
        "\n",
        "\n",
        "        # print occasionaly\n",
        "        if batch%600 == 0:\n",
        "            print(f'Epoch: {epoch} Batch: {batch} Loss: {loss.item()}')\n",
        "\n",
        "    train_losses.append(loss)\n",
        "    train_correct.append(trn_corr)\n",
        "\n",
        "\n",
        "\n",
        "current_time = time.time()\n",
        "elapsed_time = current_time - start_time\n",
        "print(elapsed_time/60 , 'minutes')"
      ],
      "metadata": {
        "colab": {
          "base_uri": "https://localhost:8080/"
        },
        "id": "MYtLwU3p5D5Q",
        "outputId": "7b5618bf-b8f1-4133-f816-3d4d64e25d2d"
      },
      "execution_count": null,
      "outputs": [
        {
          "output_type": "stream",
          "name": "stdout",
          "text": [
            "Epoch: 0 Batch: 600 Loss: 0.1623610556125641\n",
            "Epoch: 0 Batch: 1200 Loss: 0.1502392590045929\n",
            "Epoch: 0 Batch: 1800 Loss: 0.4744560718536377\n",
            "Epoch: 0 Batch: 2400 Loss: 0.14238706231117249\n",
            "Epoch: 0 Batch: 3000 Loss: 0.007758188061416149\n",
            "Epoch: 0 Batch: 3600 Loss: 0.3836284875869751\n",
            "Epoch: 0 Batch: 4200 Loss: 0.0038223876617848873\n",
            "Epoch: 0 Batch: 4800 Loss: 0.0021286322735249996\n",
            "Epoch: 0 Batch: 5400 Loss: 0.0569545142352581\n",
            "Epoch: 0 Batch: 6000 Loss: 0.00038789428072050214\n",
            "Epoch: 1 Batch: 600 Loss: 0.06289136409759521\n",
            "Epoch: 1 Batch: 1200 Loss: 0.010614877566695213\n",
            "Epoch: 1 Batch: 1800 Loss: 0.03243611007928848\n",
            "Epoch: 1 Batch: 2400 Loss: 0.012448625639081001\n",
            "Epoch: 1 Batch: 3000 Loss: 0.000640809943433851\n",
            "Epoch: 1 Batch: 3600 Loss: 0.0020938280504196882\n",
            "Epoch: 1 Batch: 4200 Loss: 0.3140248656272888\n",
            "Epoch: 1 Batch: 4800 Loss: 0.020231451839208603\n",
            "Epoch: 1 Batch: 5400 Loss: 0.0031914091669023037\n",
            "Epoch: 1 Batch: 6000 Loss: 0.0009488927898928523\n",
            "Epoch: 2 Batch: 600 Loss: 0.04242878407239914\n",
            "Epoch: 2 Batch: 1200 Loss: 0.000786997377872467\n",
            "Epoch: 2 Batch: 1800 Loss: 0.0004456916940398514\n",
            "Epoch: 2 Batch: 2400 Loss: 0.0021735907066613436\n",
            "Epoch: 2 Batch: 3000 Loss: 6.313459743978456e-05\n",
            "Epoch: 2 Batch: 3600 Loss: 0.0014708992093801498\n",
            "Epoch: 2 Batch: 4200 Loss: 8.743518264964223e-05\n",
            "Epoch: 2 Batch: 4800 Loss: 0.0011174092069268227\n",
            "Epoch: 2 Batch: 5400 Loss: 0.00019280910782981664\n",
            "Epoch: 2 Batch: 6000 Loss: 0.00013335500261746347\n",
            "Epoch: 3 Batch: 600 Loss: 0.20401248335838318\n",
            "Epoch: 3 Batch: 1200 Loss: 0.0011065044673159719\n",
            "Epoch: 3 Batch: 1800 Loss: 0.00048520020209252834\n",
            "Epoch: 3 Batch: 2400 Loss: 0.0013440614566206932\n",
            "Epoch: 3 Batch: 3000 Loss: 0.00839989073574543\n",
            "Epoch: 3 Batch: 3600 Loss: 9.791700722416863e-05\n",
            "Epoch: 3 Batch: 4200 Loss: 0.0046706534922122955\n",
            "Epoch: 3 Batch: 4800 Loss: 0.002486269222572446\n",
            "Epoch: 3 Batch: 5400 Loss: 0.03304066136479378\n",
            "Epoch: 3 Batch: 6000 Loss: 0.0277620367705822\n",
            "Epoch: 4 Batch: 600 Loss: 0.04214929789304733\n",
            "Epoch: 4 Batch: 1200 Loss: 0.0015658453339710832\n",
            "Epoch: 4 Batch: 1800 Loss: 4.677330798585899e-05\n",
            "Epoch: 4 Batch: 2400 Loss: 0.00042244786163792014\n",
            "Epoch: 4 Batch: 3000 Loss: 0.554036021232605\n",
            "Epoch: 4 Batch: 3600 Loss: 0.00038964804843999445\n",
            "Epoch: 4 Batch: 4200 Loss: 0.027548160403966904\n",
            "Epoch: 4 Batch: 4800 Loss: 0.004602053668349981\n",
            "Epoch: 4 Batch: 5400 Loss: 0.05360576510429382\n",
            "Epoch: 4 Batch: 6000 Loss: 0.03545317426323891\n",
            "4.398669572671254 minutes\n"
          ]
        }
      ]
    },
    {
      "cell_type": "code",
      "source": [
        "# Test\n",
        "with torch.no_grad():\n",
        "    for batch, (X_test, y_test) in enumerate(test_loader):\n",
        "        y_val = model(X_test)\n",
        "        predicted = torch.max(y_val.data, 1)[1] # adding up correct predictions\n",
        "        tst_corr = (predicted == y_test).sum()\n",
        "\n",
        "        loss = criterion(y_val, y_test)\n",
        "\n",
        "        test_losses.append(loss)\n",
        "        test_correct.append(tst_corr)"
      ],
      "metadata": {
        "id": "i4jWd5m-7eKI"
      },
      "execution_count": null,
      "outputs": []
    },
    {
      "cell_type": "code",
      "source": [],
      "metadata": {
        "id": "TQ1ObU_j90Lq"
      },
      "execution_count": null,
      "outputs": []
    },
    {
      "cell_type": "code",
      "source": [
        "test_load_everything = DataLoader(test_data, batch_size=10000, shuffle=False)\n",
        "with torch.no_grad():\n",
        "    correct = 0\n",
        "    for X_test, y_test in test_load_everything:\n",
        "        y_val = model(X_test)\n",
        "        predicted = torch.max(y_val.data, 1)[1]\n",
        "        correct += (predicted == y_test).sum()\n",
        "\n"
      ],
      "metadata": {
        "id": "OY0Vj5Tx-OJp"
      },
      "execution_count": null,
      "outputs": []
    },
    {
      "cell_type": "code",
      "source": [
        "str(correct.item() / len(test_data) * 100) + \"%\""
      ],
      "metadata": {
        "colab": {
          "base_uri": "https://localhost:8080/",
          "height": 35
        },
        "id": "ibo9MyHh_cwy",
        "outputId": "bed33edd-446b-4a15-b249-ee10513738c1"
      },
      "execution_count": null,
      "outputs": [
        {
          "output_type": "execute_result",
          "data": {
            "text/plain": [
              "'98.25%'"
            ],
            "application/vnd.google.colaboratory.intrinsic+json": {
              "type": "string"
            }
          },
          "metadata": {},
          "execution_count": 45
        }
      ]
    },
    {
      "cell_type": "code",
      "source": [
        "# grab an image\n",
        "test_img = test_data[1000][0].reshape(28,28)\n",
        "# show image\n",
        "plt.imshow(test_img)\n",
        "\n",
        "\n",
        "\n"
      ],
      "metadata": {
        "colab": {
          "base_uri": "https://localhost:8080/",
          "height": 448
        },
        "id": "oILt-MnS_iTa",
        "outputId": "52fe7fec-b66d-4079-d656-5ba50a47ff0c"
      },
      "execution_count": null,
      "outputs": [
        {
          "output_type": "execute_result",
          "data": {
            "text/plain": [
              "<matplotlib.image.AxesImage at 0x7d14f6d38350>"
            ]
          },
          "metadata": {},
          "execution_count": 58
        },
        {
          "output_type": "display_data",
          "data": {
            "text/plain": [
              "<Figure size 640x480 with 1 Axes>"
            ],
            "image/png": "[encoded data removed]"
          },
          "metadata": {}
        }
      ]
    },
    {
      "cell_type": "code",
      "source": [
        "# pass image through model\n",
        "with torch.no_grad():\n",
        "    output = model(test_data[1000][0].view(1,1,28,28)) # batch size of 1, 1 color channel, 28x28 image\n",
        "    print(output.argmax())"
      ],
      "metadata": {
        "colab": {
          "base_uri": "https://localhost:8080/"
        },
        "id": "hr3Oqocg__2C",
        "outputId": "0b491a0b-7a58-4d5c-99ca-b75c1376f557"
      },
      "execution_count": null,
      "outputs": [
        {
          "output_type": "stream",
          "name": "stdout",
          "text": [
            "tensor(9)\n"
          ]
        }
      ]
    },
    {
      "cell_type": "code",
      "source": [],
      "metadata": {
        "colab": {
          "base_uri": "https://localhost:8080/"
        },
        "id": "qztGH_IkAJhP",
        "outputId": "33d6ee8b-b4bc-4d58-b5dc-d97d6f0a1514"
      },
      "execution_count": null,
      "outputs": [
        {
          "output_type": "execute_result",
          "data": {
            "text/plain": [
              "tensor(8)"
            ]
          },
          "metadata": {},
          "execution_count": 60
        }
      ]
    },
    {
      "cell_type": "code",
      "source": [],
      "metadata": {
        "id": "GocBKuC1AK4E"
      },
      "execution_count": null,
      "outputs": []
    }
  ]
}